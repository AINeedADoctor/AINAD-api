{
 "cells": [
  {
   "cell_type": "code",
   "execution_count": 47,
   "metadata": {},
   "outputs": [],
   "source": [
    "import numpy as np\n",
    "import pandas as pd\n",
    "import matplotlib.pyplot as plt\n",
    "import seaborn as sns\n",
    "from sklearn import metrics\n",
    "from sklearn.model_selection import cross_val_score\n",
    "from sklearn.preprocessing import binarize"
   ]
  },
  {
   "cell_type": "code",
   "execution_count": 2,
   "metadata": {},
   "outputs": [],
   "source": [
    "df = pd.read_csv('2015.csv')"
   ]
  },
  {
   "cell_type": "code",
   "execution_count": 3,
   "metadata": {},
   "outputs": [],
   "source": [
    "''' \n",
    "SEX ... home o dona\n",
    "NUMADULT ... Numero adults vivin junts / telef fixe\n",
    "HHADULT ... Numero adults vivin junts  / telef mobil\n",
    "GENHLTH ... Opinio personal de la salud de cadascu\n",
    "CHECKUP1 ... Quant temps desde la ultima revisió?\n",
    "BPHIGH4 ... Pressió sanguinea alta, diagnosticat?\n",
    "BPMEDS ... Mediques la alta pressió?\n",
    "TOLDHI2 ... Colesterol alt?\n",
    "CVDINFR4 ... Has tingut mai un atac de cor?\n",
    "ASTHMA3 ... Tens asma?\n",
    "ADDEPEV2 ... Mai tingut depressio?\n",
    "CHILDREN ... Numero de nens a casa menors\n",
    "SMOKE100 ... fumes?\n",
    "MARITAL ... casat, divorciat, viudo, separat, parella, solter\n",
    "MENTHLTH ... Numero de dies en que vas tenir mala salut mental el passat mes\n",
    "'''\n",
    "df = df[['SEX', 'NUMADULT', 'HHADULT', 'GENHLTH', 'MENTHLTH',\n",
    "        'CHECKUP1', 'BPHIGH4', 'BPMEDS', 'TOLDHI2', 'CVDINFR4', 'ASTHMA3', 'ADDEPEV2',\n",
    "        'MARITAL', 'CHILDREN', 'SMOKE100']].copy()"
   ]
  },
  {
   "cell_type": "code",
   "execution_count": 4,
   "metadata": {
    "scrolled": false
   },
   "outputs": [],
   "source": [
    "# Juntem les dos columnes de adults vivint junts, de mobil i de telefon\n",
    "df['NUMADULT'].fillna(df['HHADULT'], inplace=True)\n",
    "\n",
    "# Carreguem CADULT que era major de edat o no\n",
    "\n",
    "\n",
    "# Eliminem la columna secundaria\n",
    "del df['HHADULT']\n",
    "\n",
    "# Eliminem les files que no contenen informació de la salut en el moment\n",
    "df.dropna(subset=['GENHLTH'], inplace=True)\n",
    "\n",
    "# Eliminem la informacio de ultima revisio que sigui erronia\n",
    "df.drop(df[df['CHECKUP1'] > 4].index, inplace=True)\n",
    "df.dropna(subset=['CHECKUP1'], inplace=True)\n",
    "\n",
    "# Nomes ens quedem amb els valors 1 i 0\n",
    "df.drop(df[(df['BPHIGH4'] != 1) & (df['BPHIGH4'] != 3)].index, inplace=True)\n",
    "df.dropna(subset=['BPHIGH4'], inplace=True)\n",
    "df.loc[df['BPHIGH4'] == 3, 'BPHIGH4'] = 0\n",
    "\n",
    "# La gent que no ha contestat si es pren medicament, intuirem que no\n",
    "df.loc[df['BPMEDS'] != 1, 'BPMEDS'] = 0\n",
    "df.BPMEDS.fillna(value=0, inplace=True)\n",
    "\n",
    "# Eliminant info de colesterol\n",
    "df.drop(df[(df['TOLDHI2'] != 1) & (df['TOLDHI2'] != 2)].index, inplace=True)\n",
    "df.dropna(subset=['TOLDHI2'], inplace=True)\n",
    "df.loc[df['TOLDHI2'] == 2, 'TOLDHI2'] = 0\n",
    "\n",
    "\n",
    "# El mateix amb atacs de cor\n",
    "df.drop(df[(df['CVDINFR4'] != 1) & (df['CVDINFR4'] != 2)].index, inplace=True)\n",
    "df.dropna(subset=['CVDINFR4'], inplace=True)\n",
    "df.loc[df['CVDINFR4'] == 2, 'CVDINFR4'] = 0\n",
    "\n",
    "# El mateix amb asma\n",
    "df.drop(df[(df['ASTHMA3'] != 1) & (df['ASTHMA3'] != 2)].index, inplace=True)\n",
    "df.dropna(subset=['ASTHMA3'], inplace=True)\n",
    "df.loc[df['ASTHMA3'] == 2, 'ASTHMA3'] = 0\n",
    "\n",
    "# El mateix amb depressio\n",
    "df.drop(df[(df['ADDEPEV2'] != 1) & (df['ADDEPEV2'] != 2)].index, inplace=True)\n",
    "df.dropna(subset=['ADDEPEV2'], inplace=True)\n",
    "df.loc[df['ADDEPEV2'] == 2, 'ADDEPEV2'] = 0\n",
    "\n",
    "# Eliminem les columnes faltants de children\n",
    "df.drop(df[df['CHILDREN'] > 20].index, inplace=True)\n",
    "df.dropna(subset=['CHILDREN'], inplace=True)\n",
    "\n",
    "# Eliminem les de SMOKE\n",
    "df.drop(df[df['SMOKE100'] > 2].index, inplace=True)\n",
    "df.dropna(subset=['SMOKE100'], inplace=True)\n",
    "\n",
    "# Creem la variable objectiu utilitzant MENTHLTH\n",
    "df.loc[df['MENTHLTH'] <= 30, 'MENTHLTH'] = 1\n",
    "df.loc[df['MENTHLTH'] > 30, 'MENTHLTH'] = 0\n",
    "df['y'] = df['MENTHLTH'].copy()\n",
    "\n",
    "del df['MENTHLTH']"
   ]
  },
  {
   "cell_type": "code",
   "execution_count": 23,
   "metadata": {},
   "outputs": [],
   "source": [
    "df.dropna(inplace=True)"
   ]
  },
  {
   "cell_type": "code",
   "execution_count": 41,
   "metadata": {},
   "outputs": [],
   "source": [
    "from sklearn.model_selection import train_test_split\n",
    "\n",
    "X = df.iloc[:, :-1]\n",
    "y = df.y\n",
    "\n",
    "X_train, X_test, y_train, y_test = train_test_split(X, y)"
   ]
  },
  {
   "cell_type": "code",
   "execution_count": 42,
   "metadata": {},
   "outputs": [],
   "source": [
    "def evalClassModel(model, y_test, y_pred_class, plot=False):\n",
    "    #Classification accuracy: percentage of correct predictions\n",
    "    # calculate accuracy\n",
    "    print('Accuracy:', metrics.accuracy_score(y_test, y_pred_class))\n",
    "    \n",
    "    #Null accuracy: accuracy that could be achieved by always predicting the most frequent class\n",
    "    # examine the class distribution of the testing set (using a Pandas Series method)\n",
    "    print('Null accuracy:\\n', y_test.value_counts())\n",
    "    \n",
    "    # calculate the percentage of ones\n",
    "    print('Percentage of ones:', y_test.mean())\n",
    "    \n",
    "    # calculate the percentage of zeros\n",
    "    print('Percentage of zeros:',1 - y_test.mean())\n",
    "    \n",
    "    #Comparing the true and predicted response values\n",
    "    print('True:', y_test.values[0:25])\n",
    "    print('Pred:', y_pred_class[0:25])\n",
    "    \n",
    "    #Conclusion:\n",
    "    #Classification accuracy is the easiest classification metric to understand\n",
    "    #But, it does not tell you the underlying distribution of response values\n",
    "    #And, it does not tell you what \"types\" of errors your classifier is making\n",
    "    \n",
    "    #Confusion matrix\n",
    "    # save confusion matrix and slice into four pieces\n",
    "    confusion = metrics.confusion_matrix(y_test, y_pred_class)\n",
    "    #[row, column]\n",
    "    TP = confusion[1, 1]\n",
    "    TN = confusion[0, 0]\n",
    "    FP = confusion[0, 1]\n",
    "    FN = confusion[1, 0]\n",
    "    \n",
    "    # visualize Confusion Matrix\n",
    "    sns.heatmap(confusion,annot=True,fmt=\"d\") \n",
    "    plt.title('Confusion Matrix')\n",
    "    plt.xlabel('Predicted')\n",
    "    plt.ylabel('Actual')\n",
    "    plt.show()\n",
    "    \n",
    "    #Metrics computed from a confusion matrix\n",
    "    #Classification Accuracy: Overall, how often is the classifier correct?\n",
    "    accuracy = metrics.accuracy_score(y_test, y_pred_class)\n",
    "    print('Classification Accuracy:', accuracy)\n",
    "    \n",
    "    #Classification Error: Overall, how often is the classifier incorrect?\n",
    "    print('Classification Error:', 1 - metrics.accuracy_score(y_test, y_pred_class))\n",
    "    \n",
    "    #False Positive Rate: When the actual value is negative, how often is the prediction incorrect?\n",
    "    false_positive_rate = FP / float(TN + FP)\n",
    "    print('False Positive Rate:', false_positive_rate)\n",
    "    \n",
    "    #Precision: When a positive value is predicted, how often is the prediction correct?\n",
    "    print('Precision:', metrics.precision_score(y_test, y_pred_class))\n",
    "    \n",
    "    \n",
    "    # IMPORTANT: first argument is true values, second argument is predicted probabilities\n",
    "    print('AUC Score:', metrics.roc_auc_score(y_test, y_pred_class))\n",
    "    \n",
    "    # calculate cross-validated AUC\n",
    "    print('Cross-validated AUC:', cross_val_score(model, X, y, cv=10, scoring='roc_auc').mean())\n",
    "    \n",
    "    ##########################################\n",
    "    #Adjusting the classification threshold\n",
    "    ##########################################\n",
    "    # print the first 10 predicted responses\n",
    "    # 1D array (vector) of binary values (0, 1)\n",
    "    print('First 10 predicted responses:\\n', model.predict(X_test)[0:10])\n",
    "\n",
    "    # print the first 10 predicted probabilities of class membership\n",
    "    print('First 10 predicted probabilities of class members:\\n', model.predict_proba(X_test)[0:10])\n",
    "\n",
    "    # print the first 10 predicted probabilities for class 1\n",
    "    model.predict_proba(X_test)[0:10, 1]\n",
    "    \n",
    "    # store the predicted probabilities for class 1\n",
    "    y_pred_prob = model.predict_proba(X_test)[:, 1]\n",
    "    \n",
    "    if plot == True:\n",
    "        # histogram of predicted probabilities\n",
    "        # adjust the font size \n",
    "        plt.rcParams['font.size'] = 12\n",
    "        # 8 bins\n",
    "        plt.hist(y_pred_prob, bins=8)\n",
    "        \n",
    "        # x-axis limit from 0 to 1\n",
    "        plt.xlim(0,1)\n",
    "        plt.title('Histogram of predicted probabilities')\n",
    "        plt.xlabel('Predicted probability of treatment')\n",
    "        plt.ylabel('Frequency')\n",
    "    \n",
    "    \n",
    "    # predict treatment if the predicted probability is greater than 0.3\n",
    "    # it will return 1 for all values above 0.3 and 0 otherwise\n",
    "    # results are 2D so we slice out the first column\n",
    "    y_pred_prob = y_pred_prob.reshape(-1,1) \n",
    "    y_pred_class = binarize(y_pred_prob, 0.3)[0]\n",
    "    \n",
    "    # print the first 10 predicted probabilities\n",
    "    print('First 10 predicted probabilities:\\n', y_pred_prob[0:10])\n",
    "    \n",
    "    ##########################################\n",
    "    #ROC Curves and Area Under the Curve (AUC)\n",
    "    ##########################################\n",
    "    \n",
    "    #Question: Wouldn't it be nice if we could see how sensitivity and specificity are affected by various thresholds, without actually changing the threshold?\n",
    "    #Answer: Plot the ROC curve!\n",
    "    \n",
    "    \n",
    "    #AUC is the percentage of the ROC plot that is underneath the curve\n",
    "    #Higher value = better classifier\n",
    "    roc_auc = metrics.roc_auc_score(y_test, y_pred_prob)\n",
    "    \n",
    "    \n",
    "\n",
    "    # IMPORTANT: first argument is true values, second argument is predicted probabilities\n",
    "    # we pass y_test and y_pred_prob\n",
    "    # we do not use y_pred_class, because it will give incorrect results without generating an error\n",
    "    # roc_curve returns 3 objects fpr, tpr, thresholds\n",
    "    # fpr: false positive rate\n",
    "    # tpr: true positive rate\n",
    "    fpr, tpr, thresholds = metrics.roc_curve(y_test, y_pred_prob)\n",
    "    if plot == True:\n",
    "        plt.figure()\n",
    "        \n",
    "        plt.plot(fpr, tpr, color='darkorange', label='ROC curve (area = %0.2f)' % roc_auc)\n",
    "        plt.plot([0, 1], [0, 1], color='navy', linestyle='--')\n",
    "        plt.xlim([0.0, 1.0])\n",
    "        plt.ylim([0.0, 1.0])\n",
    "        plt.rcParams['font.size'] = 12\n",
    "        plt.title('ROC curve for treatment classifier')\n",
    "        plt.xlabel('False Positive Rate (1 - Specificity)')\n",
    "        plt.ylabel('True Positive Rate (Sensitivity)')\n",
    "        plt.legend(loc=\"lower right\")\n",
    "        plt.show()\n",
    "    \n",
    "    # define a function that accepts a threshold and prints sensitivity and specificity\n",
    "    def evaluate_threshold(threshold):\n",
    "        #Sensitivity: When the actual value is positive, how often is the prediction correct?\n",
    "        #Specificity: When the actual value is negative, how often is the prediction correct?print('Sensitivity for ' + str(threshold) + ' :', tpr[thresholds > threshold][-1])\n",
    "        print('Specificity for ' + str(threshold) + ' :', 1 - fpr[thresholds > threshold][-1])\n",
    "\n",
    "    # One way of setting threshold\n",
    "    predict_mine = np.where(y_pred_prob > 0.50, 1, 0)\n",
    "    confusion = metrics.confusion_matrix(y_test, predict_mine)\n",
    "    print(confusion)\n",
    "    \n",
    "    \n",
    "    \n",
    "    return accuracy"
   ]
  },
  {
   "cell_type": "code",
   "execution_count": 56,
   "metadata": {},
   "outputs": [],
   "source": [
    "from sklearn.linear_model import LogisticRegression\n",
    "from sklearn.ensemble import RandomForestClassifier\n",
    "\n",
    "def logisticRegression():\n",
    "    \n",
    "    lr = LogisticRegression()\n",
    "    lr.fit(X_train, y_train)\n",
    "    \n",
    "    y_pred_class = lr.predict(X_test)\n",
    "    \n",
    "    print('-------------- Logistic Regression --------------')\n",
    "    \n",
    "    accuracy_score = evalClassModel(lr, y_test, y_pred_class, True)"
   ]
  },
  {
   "cell_type": "code",
   "execution_count": 57,
   "metadata": {
    "scrolled": false
   },
   "outputs": [
    {
     "name": "stderr",
     "output_type": "stream",
     "text": [
      "C:\\Users\\marc\\Anaconda3\\envs\\hackathon\\lib\\site-packages\\sklearn\\linear_model\\logistic.py:432: FutureWarning: Default solver will be changed to 'lbfgs' in 0.22. Specify a solver to silence this warning.\n",
      "  FutureWarning)\n"
     ]
    },
    {
     "name": "stdout",
     "output_type": "stream",
     "text": [
      "-------------- Logistic Regression --------------\n",
      "Accuracy: 0.7345617529880478\n",
      "Null accuracy:\n",
      " 0.0    13176\n",
      "1.0     6904\n",
      "Name: y, dtype: int64\n",
      "Percentage of ones: 0.34382470119521913\n",
      "Percentage of zeros: 0.6561752988047809\n",
      "True: [0. 1. 0. 1. 1. 0. 1. 0. 0. 1. 0. 0. 0. 0. 1. 1. 1. 0. 1. 0. 1. 0. 0. 0.\n",
      " 1.]\n",
      "Pred: [0. 1. 0. 0. 0. 0. 0. 0. 1. 1. 0. 0. 0. 0. 1. 0. 0. 0. 1. 0. 1. 0. 0. 0.\n",
      " 0.]\n"
     ]
    },
    {
     "data": {
      "image/png": "[encoded data removed]",
      "text/plain": [
       "<Figure size 432x288 with 2 Axes>"
      ]
     },
     "metadata": {
      "needs_background": "light"
     },
     "output_type": "display_data"
    },
    {
     "name": "stdout",
     "output_type": "stream",
     "text": [
      "Classification Accuracy: 0.7345617529880478\n",
      "Classification Error: 0.2654382470119522\n",
      "False Positive Rate: 0.09198542805100182\n",
      "Precision: 0.696848424212106\n",
      "AUC Score: 0.6557743775156347\n"
     ]
    },
    {
     "name": "stderr",
     "output_type": "stream",
     "text": [
      "C:\\Users\\marc\\Anaconda3\\envs\\hackathon\\lib\\site-packages\\sklearn\\linear_model\\logistic.py:432: FutureWarning: Default solver will be changed to 'lbfgs' in 0.22. Specify a solver to silence this warning.\n",
      "  FutureWarning)\n",
      "C:\\Users\\marc\\Anaconda3\\envs\\hackathon\\lib\\site-packages\\sklearn\\linear_model\\logistic.py:432: FutureWarning: Default solver will be changed to 'lbfgs' in 0.22. Specify a solver to silence this warning.\n",
      "  FutureWarning)\n",
      "C:\\Users\\marc\\Anaconda3\\envs\\hackathon\\lib\\site-packages\\sklearn\\linear_model\\logistic.py:432: FutureWarning: Default solver will be changed to 'lbfgs' in 0.22. Specify a solver to silence this warning.\n",
      "  FutureWarning)\n",
      "C:\\Users\\marc\\Anaconda3\\envs\\hackathon\\lib\\site-packages\\sklearn\\linear_model\\logistic.py:432: FutureWarning: Default solver will be changed to 'lbfgs' in 0.22. Specify a solver to silence this warning.\n",
      "  FutureWarning)\n",
      "C:\\Users\\marc\\Anaconda3\\envs\\hackathon\\lib\\site-packages\\sklearn\\linear_model\\logistic.py:432: FutureWarning: Default solver will be changed to 'lbfgs' in 0.22. Specify a solver to silence this warning.\n",
      "  FutureWarning)\n",
      "C:\\Users\\marc\\Anaconda3\\envs\\hackathon\\lib\\site-packages\\sklearn\\linear_model\\logistic.py:432: FutureWarning: Default solver will be changed to 'lbfgs' in 0.22. Specify a solver to silence this warning.\n",
      "  FutureWarning)\n",
      "C:\\Users\\marc\\Anaconda3\\envs\\hackathon\\lib\\site-packages\\sklearn\\linear_model\\logistic.py:432: FutureWarning: Default solver will be changed to 'lbfgs' in 0.22. Specify a solver to silence this warning.\n",
      "  FutureWarning)\n",
      "C:\\Users\\marc\\Anaconda3\\envs\\hackathon\\lib\\site-packages\\sklearn\\linear_model\\logistic.py:432: FutureWarning: Default solver will be changed to 'lbfgs' in 0.22. Specify a solver to silence this warning.\n",
      "  FutureWarning)\n",
      "C:\\Users\\marc\\Anaconda3\\envs\\hackathon\\lib\\site-packages\\sklearn\\linear_model\\logistic.py:432: FutureWarning: Default solver will be changed to 'lbfgs' in 0.22. Specify a solver to silence this warning.\n",
      "  FutureWarning)\n",
      "C:\\Users\\marc\\Anaconda3\\envs\\hackathon\\lib\\site-packages\\sklearn\\linear_model\\logistic.py:432: FutureWarning: Default solver will be changed to 'lbfgs' in 0.22. Specify a solver to silence this warning.\n",
      "  FutureWarning)\n"
     ]
    },
    {
     "name": "stdout",
     "output_type": "stream",
     "text": [
      "Cross-validated AUC: 0.7139180673068772\n",
      "First 10 predicted responses:\n",
      " [0. 1. 0. 0. 0. 0. 0. 0. 1. 1.]\n",
      "First 10 predicted probabilities of class members:\n",
      " [[0.84788661 0.15211339]\n",
      " [0.33895435 0.66104565]\n",
      " [0.80522546 0.19477454]\n",
      " [0.74252519 0.25747481]\n",
      " [0.62072161 0.37927839]\n",
      " [0.6230285  0.3769715 ]\n",
      " [0.73835497 0.26164503]\n",
      " [0.73746407 0.26253593]\n",
      " [0.26332884 0.73667116]\n",
      " [0.37538865 0.62461135]]\n",
      "First 10 predicted probabilities:\n",
      " [[0.15211339]\n",
      " [0.66104565]\n",
      " [0.19477454]\n",
      " [0.25747481]\n",
      " [0.37927839]\n",
      " [0.3769715 ]\n",
      " [0.26164503]\n",
      " [0.26253593]\n",
      " [0.73667116]\n",
      " [0.62461135]]\n"
     ]
    },
    {
     "data": {
      "image/png": "[encoded data removed]",
      "text/plain": [
       "<Figure size 432x288 with 1 Axes>"
      ]
     },
     "metadata": {
      "needs_background": "light"
     },
     "output_type": "display_data"
    },
    {
     "data": {
      "image/png": "[encoded data removed]",
      "text/plain": [
       "<Figure size 432x288 with 1 Axes>"
      ]
     },
     "metadata": {
      "needs_background": "light"
     },
     "output_type": "display_data"
    },
    {
     "name": "stdout",
     "output_type": "stream",
     "text": [
      "[[11964  1212]\n",
      " [ 4118  2786]]\n"
     ]
    }
   ],
   "source": [
    "logisticRegression()"
   ]
  },
  {
   "cell_type": "code",
   "execution_count": null,
   "metadata": {},
   "outputs": [],
   "source": []
  }
 ],
 "metadata": {
  "kernelspec": {
   "display_name": "Python 3",
   "language": "python",
   "name": "python3"
  },
  "language_info": {
   "codemirror_mode": {
    "name": "ipython",
    "version": 3
   },
   "file_extension": ".py",
   "mimetype": "text/x-python",
   "name": "python",
   "nbconvert_exporter": "python",
   "pygments_lexer": "ipython3",
   "version": "3.6.6"
  }
 },
 "nbformat": 4,
 "nbformat_minor": 2
}
